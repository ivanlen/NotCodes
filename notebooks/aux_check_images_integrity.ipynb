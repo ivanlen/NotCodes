{
 "cells": [
  {
   "cell_type": "markdown",
   "metadata": {},
   "source": [
    "This notebook was used to clean corrupted images from the dataset"
   ]
  },
  {
   "cell_type": "code",
   "execution_count": 1,
   "metadata": {},
   "outputs": [],
   "source": [
    "%load_ext autoreload\n",
    "%autoreload 2"
   ]
  },
  {
   "cell_type": "code",
   "execution_count": 2,
   "metadata": {},
   "outputs": [],
   "source": [
    "import sys\n",
    "sys.path.append('../code/')"
   ]
  },
  {
   "cell_type": "code",
   "execution_count": 3,
   "metadata": {},
   "outputs": [],
   "source": [
    "import numpy as np\n",
    "import os\n",
    "import pandas as pd\n",
    "from tqdm import tqdm\n",
    "from data_loading import ImageSequence\n",
    "from utils import square_pad_image"
   ]
  },
  {
   "cell_type": "code",
   "execution_count": 4,
   "metadata": {},
   "outputs": [],
   "source": [
    "dataset_path = '/data/datasets/imagenet2012/'"
   ]
  },
  {
   "cell_type": "code",
   "execution_count": 5,
   "metadata": {},
   "outputs": [
    {
     "name": "stderr",
     "output_type": "stream",
     "text": [
      "  1%|          | 7/1001 [00:00<00:15, 63.92it/s]"
     ]
    },
    {
     "name": "stdout",
     "output_type": "stream",
     "text": [
      "generating splits\n"
     ]
    },
    {
     "name": "stderr",
     "output_type": "stream",
     "text": [
      "100%|██████████| 1001/1001 [00:15<00:00, 64.93it/s]\n"
     ]
    }
   ],
   "source": [
    "train_generator = ImageSequence(dataset_path, 20, target_split='train', square_ims='center_pad')"
   ]
  },
  {
   "cell_type": "code",
   "execution_count": 6,
   "metadata": {},
   "outputs": [],
   "source": [
    "folders = train_generator.list_valid_folders()"
   ]
  },
  {
   "cell_type": "code",
   "execution_count": 7,
   "metadata": {},
   "outputs": [],
   "source": [
    "from PIL import UnidentifiedImageError\n",
    "from PIL import Image\n",
    "from tensorflow.keras.applications.resnet50 import preprocess_input, decode_predictions\n",
    "# import warnings\n",
    "# warnings.filterwarnings('error')"
   ]
  },
  {
   "cell_type": "code",
   "execution_count": 82,
   "metadata": {},
   "outputs": [],
   "source": [
    "def correct_sample(sample):\n",
    "    sample['status_code'] = 'er'\n",
    "    sample['fname'] = None\n",
    "    return sample\n",
    "\n",
    "def curate(folder_name, in_data='/curated_results.json'):\n",
    "    if isinstance(in_data, str):\n",
    "        ims_df = pd.read_json(folder_name + in_data)\n",
    "    elif isinstance(in_data, pd.core.frame.DataFrame):\n",
    "        ims_df = in_data\n",
    "    invalids = []\n",
    "    ims = []\n",
    "    for i, sample in ims_df[ims_df['status_code']==200].iterrows():\n",
    "        print(sample['fname'])\n",
    "        try:\n",
    "            if sample['fname'] is None:\n",
    "                sample = correct_sample(sample)\n",
    "                ims_df.iloc[i] = sample\n",
    "            else:\n",
    "                im = square_pad_image(sample['fname'])\n",
    "                ims.append(np.asarray(im))\n",
    "        except UnidentifiedImageError:\n",
    "            sample = correct_sample(sample)\n",
    "            ims_df.iloc[i] = sample\n",
    "        except OSError:\n",
    "            sample = correct_sample(sample)\n",
    "            ims_df.iloc[i] = sample\n",
    "        except Exception as e:\n",
    "            print(e)\n",
    "            raise Exception('BREAK other error')\n",
    "    print(folder_name, len(ims))\n",
    "    preprocess_input(np.array(ims))\n",
    "    new_json_path = folder_name + '/curated_results.json'\n",
    "    ims_df.to_json(new_json_path)"
   ]
  },
  {
   "cell_type": "code",
   "execution_count": 97,
   "metadata": {},
   "outputs": [],
   "source": [
    "d = pd.read_json('/data/datasets/imagenet2012/brad/curated_results.json')"
   ]
  },
  {
   "cell_type": "code",
   "execution_count": 92,
   "metadata": {},
   "outputs": [],
   "source": [
    "already = ['{}'.format(x) for x in range(1200)]\n",
    "main_path = '/data/datasets/imagenet2012/brad/'\n",
    "all_f = sorted(os.listdir(main_path))\n",
    "news = [x for x in all_f if (x.split('.')[0] not in already)]\n",
    "news_full = ['{}/{}'.format(main_path, x) for x in news if x.split('.')[-1] != 'json']\n"
   ]
  },
  {
   "cell_type": "code",
   "execution_count": 94,
   "metadata": {},
   "outputs": [],
   "source": [
    "new_df = pd.DataFrame({'fname': news_full})\n",
    "new_df['status_code'] = 200"
   ]
  },
  {
   "cell_type": "code",
   "execution_count": 95,
   "metadata": {},
   "outputs": [
    {
     "data": {
      "text/html": [
       "<div>\n",
       "<style scoped>\n",
       "    .dataframe tbody tr th:only-of-type {\n",
       "        vertical-align: middle;\n",
       "    }\n",
       "\n",
       "    .dataframe tbody tr th {\n",
       "        vertical-align: top;\n",
       "    }\n",
       "\n",
       "    .dataframe thead th {\n",
       "        text-align: right;\n",
       "    }\n",
       "</style>\n",
       "<table border=\"1\" class=\"dataframe\">\n",
       "  <thead>\n",
       "    <tr style=\"text-align: right;\">\n",
       "      <th></th>\n",
       "      <th>ind</th>\n",
       "      <th>url</th>\n",
       "      <th>fname</th>\n",
       "      <th>status_code</th>\n",
       "    </tr>\n",
       "  </thead>\n",
       "  <tbody>\n",
       "    <tr>\n",
       "      <th>0</th>\n",
       "      <td>0.0</td>\n",
       "      <td>http://farm1.static.flickr.com/43/100299048_85...</td>\n",
       "      <td>/data/datasets/imagenet2012//brad/0.jpeg</td>\n",
       "      <td>200</td>\n",
       "    </tr>\n",
       "    <tr>\n",
       "      <th>1</th>\n",
       "      <td>1.0</td>\n",
       "      <td>http://farm1.static.flickr.com/39/100299580_df...</td>\n",
       "      <td>/data/datasets/imagenet2012//brad/1.jpeg</td>\n",
       "      <td>200</td>\n",
       "    </tr>\n",
       "    <tr>\n",
       "      <th>2</th>\n",
       "      <td>2.0</td>\n",
       "      <td>http://farm1.static.flickr.com/8/10090770_9569...</td>\n",
       "      <td>/data/datasets/imagenet2012//brad/2.jpeg</td>\n",
       "      <td>200</td>\n",
       "    </tr>\n",
       "    <tr>\n",
       "      <th>3</th>\n",
       "      <td>3.0</td>\n",
       "      <td>http://farm1.static.flickr.com/19/106208948_14...</td>\n",
       "      <td>/data/datasets/imagenet2012//brad/3.jpeg</td>\n",
       "      <td>200</td>\n",
       "    </tr>\n",
       "    <tr>\n",
       "      <th>4</th>\n",
       "      <td>4.0</td>\n",
       "      <td>http://farm1.static.flickr.com/40/106209220_f5...</td>\n",
       "      <td>/data/datasets/imagenet2012//brad/4.jpeg</td>\n",
       "      <td>200</td>\n",
       "    </tr>\n",
       "    <tr>\n",
       "      <th>...</th>\n",
       "      <td>...</td>\n",
       "      <td>...</td>\n",
       "      <td>...</td>\n",
       "      <td>...</td>\n",
       "    </tr>\n",
       "    <tr>\n",
       "      <th>1082</th>\n",
       "      <td>NaN</td>\n",
       "      <td>NaN</td>\n",
       "      <td>/data/datasets/imagenet2012/brad//images (5).jpeg</td>\n",
       "      <td>200</td>\n",
       "    </tr>\n",
       "    <tr>\n",
       "      <th>1083</th>\n",
       "      <td>NaN</td>\n",
       "      <td>NaN</td>\n",
       "      <td>/data/datasets/imagenet2012/brad//images (6).jpeg</td>\n",
       "      <td>200</td>\n",
       "    </tr>\n",
       "    <tr>\n",
       "      <th>1084</th>\n",
       "      <td>NaN</td>\n",
       "      <td>NaN</td>\n",
       "      <td>/data/datasets/imagenet2012/brad//images (7).jpeg</td>\n",
       "      <td>200</td>\n",
       "    </tr>\n",
       "    <tr>\n",
       "      <th>1085</th>\n",
       "      <td>NaN</td>\n",
       "      <td>NaN</td>\n",
       "      <td>/data/datasets/imagenet2012/brad//images (8).jpeg</td>\n",
       "      <td>200</td>\n",
       "    </tr>\n",
       "    <tr>\n",
       "      <th>1086</th>\n",
       "      <td>NaN</td>\n",
       "      <td>NaN</td>\n",
       "      <td>/data/datasets/imagenet2012/brad//images.jpeg</td>\n",
       "      <td>200</td>\n",
       "    </tr>\n",
       "  </tbody>\n",
       "</table>\n",
       "<p>1087 rows × 4 columns</p>\n",
       "</div>"
      ],
      "text/plain": [
       "      ind                                                url  \\\n",
       "0     0.0  http://farm1.static.flickr.com/43/100299048_85...   \n",
       "1     1.0  http://farm1.static.flickr.com/39/100299580_df...   \n",
       "2     2.0  http://farm1.static.flickr.com/8/10090770_9569...   \n",
       "3     3.0  http://farm1.static.flickr.com/19/106208948_14...   \n",
       "4     4.0  http://farm1.static.flickr.com/40/106209220_f5...   \n",
       "...   ...                                                ...   \n",
       "1082  NaN                                                NaN   \n",
       "1083  NaN                                                NaN   \n",
       "1084  NaN                                                NaN   \n",
       "1085  NaN                                                NaN   \n",
       "1086  NaN                                                NaN   \n",
       "\n",
       "                                                  fname status_code  \n",
       "0              /data/datasets/imagenet2012//brad/0.jpeg         200  \n",
       "1              /data/datasets/imagenet2012//brad/1.jpeg         200  \n",
       "2              /data/datasets/imagenet2012//brad/2.jpeg         200  \n",
       "3              /data/datasets/imagenet2012//brad/3.jpeg         200  \n",
       "4              /data/datasets/imagenet2012//brad/4.jpeg         200  \n",
       "...                                                 ...         ...  \n",
       "1082  /data/datasets/imagenet2012/brad//images (5).jpeg         200  \n",
       "1083  /data/datasets/imagenet2012/brad//images (6).jpeg         200  \n",
       "1084  /data/datasets/imagenet2012/brad//images (7).jpeg         200  \n",
       "1085  /data/datasets/imagenet2012/brad//images (8).jpeg         200  \n",
       "1086      /data/datasets/imagenet2012/brad//images.jpeg         200  \n",
       "\n",
       "[1087 rows x 4 columns]"
      ]
     },
     "execution_count": 95,
     "metadata": {},
     "output_type": "execute_result"
    }
   ],
   "source": [
    "all_df = pd.concat([d, new_df]).reset_index(drop=True)"
   ]
  },
  {
   "cell_type": "code",
   "execution_count": 26,
   "metadata": {},
   "outputs": [],
   "source": [
    "# from multiprocessing import Pool\n",
    "\n",
    "# # parallel\n",
    "# pool = Pool(10)\n",
    "# list(tqdm(pool.imap(curate, folders), total=len(folders)))\n",
    "# pool.close()\n",
    "\n",
    "# # single thread\n",
    "# # for folder_name in tqdm(folders):\n",
    "# #     curate(folder_name)"
   ]
  },
  {
   "cell_type": "code",
   "execution_count": 33,
   "metadata": {},
   "outputs": [],
   "source": [
    "# extra curate\n",
    "# curate('/data/datasets/imagenet2012/n04399382', '/results.json')"
   ]
  }
 ],
 "metadata": {
  "kernelspec": {
   "display_name": "Python 3",
   "language": "python",
   "name": "python3"
  },
  "language_info": {
   "codemirror_mode": {
    "name": "ipython",
    "version": 3
   },
   "file_extension": ".py",
   "mimetype": "text/x-python",
   "name": "python",
   "nbconvert_exporter": "python",
   "pygments_lexer": "ipython3",
   "version": "3.7.10"
  }
 },
 "nbformat": 4,
 "nbformat_minor": 4
}
