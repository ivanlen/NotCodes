{
 "cells": [
  {
   "cell_type": "markdown",
   "metadata": {},
   "source": [
    "# Download ImageNet 1000 images"
   ]
  },
  {
   "cell_type": "code",
   "execution_count": 2,
   "metadata": {},
   "outputs": [],
   "source": [
    "import tensorflow as tf\n",
    "import numpy as np\n",
    "from tensorflow.keras.preprocessing import image"
   ]
  },
  {
   "cell_type": "markdown",
   "metadata": {},
   "source": [
    "http://image-net.org/challenges/LSVRC/2014/browse-synsets"
   ]
  },
  {
   "cell_type": "code",
   "execution_count": 3,
   "metadata": {},
   "outputs": [],
   "source": [
    "from tensorflow.keras.applications.resnet_v2 import preprocess_input, decode_predictions"
   ]
  },
  {
   "cell_type": "code",
   "execution_count": 4,
   "metadata": {},
   "outputs": [],
   "source": [
    "winds = decode_predictions(np.expand_dims(np.zeros(1000), 0), top=1000)"
   ]
  },
  {
   "cell_type": "code",
   "execution_count": 5,
   "metadata": {},
   "outputs": [],
   "source": [
    "import os\n",
    "import requests\n",
    "import shutil\n",
    "import pandas as pd\n",
    "from tqdm import tqdm\n",
    "from multiprocessing import Pool"
   ]
  },
  {
   "cell_type": "code",
   "execution_count": null,
   "metadata": {},
   "outputs": [],
   "source": [
    "data_path = '/data/datasets/imagenet2012/'\n",
    "image_formats = (\"image/png\", \"image/jpeg\", \"image/jpg\")"
   ]
  },
  {
   "cell_type": "code",
   "execution_count": 16,
   "metadata": {},
   "outputs": [],
   "source": [
    "def extension_mapper(ct):\n",
    "    return ct.split('/')[-1]    \n",
    "\n",
    "def download_image(ind, l, wind_path):\n",
    "#     l = list_of_images[ind]\n",
    "    try:\n",
    "        r = requests.get(l, timeout=8)\n",
    "        status_code = r.status_code\n",
    "        if status_code == 200 and r.headers['Content-Type'] in image_formats:\n",
    "            ext = extension_mapper(r.headers['Content-Type'])\n",
    "            fname = '{}/{}.{}'.format(wind_path, ind, ext)\n",
    "\n",
    "            response = {'ind':ind,\n",
    "                        'url': l, \n",
    "                        'fname': fname,\n",
    "                        'status_code': status_code}\n",
    "            img_data = r.content\n",
    "            with open(fname, 'wb') as f:\n",
    "#                 r.raw.decode_content = True\n",
    "#                 shutil.copyfileobj(r.raw, f)\n",
    "                f.write(img_data)\n",
    "        else:\n",
    "            response = {'ind':ind,\n",
    "            'url': l, \n",
    "            'fname': None,\n",
    "            'status_code': status_code}\n",
    "    except:\n",
    "        response = {'ind':ind,\n",
    "                    'url': l, \n",
    "                    'fname': None,\n",
    "                    'status_code': 'err/to'}\n",
    "    return response"
   ]
  },
  {
   "cell_type": "code",
   "execution_count": null,
   "metadata": {},
   "outputs": [
    {
     "name": "stderr",
     "output_type": "stream",
     "text": [
      "  8%|▊         | 81/1000 [2:33:27<38:44:08, 151.74s/it]"
     ]
    }
   ],
   "source": [
    "# wind = 'n02391049'\n",
    "pool = Pool(23)\n",
    "for wind in tqdm(winds[0]):\n",
    "    wind = wind[0]\n",
    "#     print(wind)\n",
    "    wind_path = '{}/{}'.format(data_path, wind)\n",
    "    os.makedirs(wind_path, exist_ok=True)\n",
    "    resp = requests.get('http://www.image-net.org/api/text/imagenet.synset.geturls?wnid={wind}'.format(wind=wind))\n",
    "    list_of_images = [x.replace('\\n', '') for x in resp.text.split('\\r')]\n",
    "#     list_of_images = list_of_images[:20]\n",
    "    inds = range(len(list_of_images))\n",
    "    p_aux = [wind_path for x in inds]\n",
    "    results = pool.starmap(download_image, zip(inds, list_of_images, p_aux))\n",
    "\n",
    "    pd_results = pd.DataFrame(results)\n",
    "    restuls_file = '{}/results.json'.format(wind_path)\n",
    "    pd_results.to_json(restuls_file)\n",
    "\n",
    "pool.close()"
   ]
  },
  {
   "cell_type": "markdown",
   "metadata": {},
   "source": [
    "### Bradley images"
   ]
  },
  {
   "cell_type": "markdown",
   "metadata": {},
   "source": [
    "PubFig: Public Figures Face Database\n",
    "\n",
    "https://www.cs.columbia.edu/CAVE/databases/pubfig/download/"
   ]
  },
  {
   "cell_type": "code",
   "execution_count": 11,
   "metadata": {},
   "outputs": [],
   "source": [
    "url = 'https://www.cs.columbia.edu/CAVE//databases/pubfig/download/eval_urls.txt'\n",
    "r = requests.get(url)"
   ]
  },
  {
   "cell_type": "code",
   "execution_count": 23,
   "metadata": {},
   "outputs": [],
   "source": [
    "list_of_c = [x.split('\\t') for x in r.text.split('\\n')]"
   ]
  },
  {
   "cell_type": "code",
   "execution_count": 27,
   "metadata": {},
   "outputs": [
    {
     "data": {
      "text/plain": [
       "['#', 'person', 'imagenum', 'url', 'rect', 'md5sum']"
      ]
     },
     "execution_count": 27,
     "metadata": {},
     "output_type": "execute_result"
    }
   ],
   "source": [
    "list_of_c[1]"
   ]
  },
  {
   "cell_type": "code",
   "execution_count": 28,
   "metadata": {},
   "outputs": [
    {
     "data": {
      "text/plain": [
       "['Aaron Eckhart',\n",
       " '1',\n",
       " 'http://farm1.static.flickr.com/119/288329997_19ebf1d7b3_o.jpg',\n",
       " '248,92,338,182',\n",
       " 'a980a9e21c90ff62e57345fad53a56c8']"
      ]
     },
     "execution_count": 28,
     "metadata": {},
     "output_type": "execute_result"
    }
   ],
   "source": [
    "list_of_c[2]"
   ]
  },
  {
   "cell_type": "code",
   "execution_count": 31,
   "metadata": {},
   "outputs": [],
   "source": [
    "df = pd.DataFrame(list_of_c[2:-1], columns = list_of_c[1][1:] )\n",
    "df_brad = df[df['person'] == 'Brad Pitt'] "
   ]
  },
  {
   "cell_type": "markdown",
   "metadata": {},
   "source": [
    "download images"
   ]
  },
  {
   "cell_type": "code",
   "execution_count": 37,
   "metadata": {},
   "outputs": [],
   "source": [
    "wind = 'brad'\n",
    "\n",
    "# wind = 'n02391049'\n",
    "pool = Pool(23)\n",
    "\n",
    "#     print(wind)\n",
    "wind_path = '{}/{}'.format(data_path, wind)\n",
    "os.makedirs(wind_path, exist_ok=True)\n",
    "\n",
    "#     list_of_images = list_of_images[:20]\n",
    "list_of_images = df_brad['url'].values\n",
    "inds = range(len(list_of_images))\n",
    "p_aux = [wind_path for x in inds]\n",
    "results = pool.starmap(download_image, zip(inds, list_of_images, p_aux))\n",
    "\n",
    "pd_results = pd.DataFrame(results)\n",
    "restuls_file = '{}/results.json'.format(wind_path)\n",
    "pd_results.to_json(restuls_file)\n",
    "\n",
    "pool.close()"
   ]
  },
  {
   "cell_type": "code",
   "execution_count": 46,
   "metadata": {},
   "outputs": [
    {
     "data": {
      "text/plain": [
       "'/data/datasets/imagenet2012//teddy'"
      ]
     },
     "execution_count": 46,
     "metadata": {},
     "output_type": "execute_result"
    }
   ],
   "source": [
    "wind_path"
   ]
  },
  {
   "cell_type": "code",
   "execution_count": 49,
   "metadata": {},
   "outputs": [
    {
     "data": {
      "text/html": [
       "<div>\n",
       "<style scoped>\n",
       "    .dataframe tbody tr th:only-of-type {\n",
       "        vertical-align: middle;\n",
       "    }\n",
       "\n",
       "    .dataframe tbody tr th {\n",
       "        vertical-align: top;\n",
       "    }\n",
       "\n",
       "    .dataframe thead th {\n",
       "        text-align: right;\n",
       "    }\n",
       "</style>\n",
       "<table border=\"1\" class=\"dataframe\">\n",
       "  <thead>\n",
       "    <tr style=\"text-align: right;\">\n",
       "      <th></th>\n",
       "      <th>ind</th>\n",
       "      <th>url</th>\n",
       "      <th>fname</th>\n",
       "      <th>status_code</th>\n",
       "    </tr>\n",
       "  </thead>\n",
       "  <tbody>\n",
       "    <tr>\n",
       "      <th>0</th>\n",
       "      <td>0</td>\n",
       "      <td>http://farm1.static.flickr.com/43/100299048_85...</td>\n",
       "      <td>/data/datasets/imagenet2012//brad/0.jpeg</td>\n",
       "      <td>200</td>\n",
       "    </tr>\n",
       "    <tr>\n",
       "      <th>1</th>\n",
       "      <td>1</td>\n",
       "      <td>http://farm1.static.flickr.com/39/100299580_df...</td>\n",
       "      <td>/data/datasets/imagenet2012//brad/1.jpeg</td>\n",
       "      <td>200</td>\n",
       "    </tr>\n",
       "    <tr>\n",
       "      <th>2</th>\n",
       "      <td>2</td>\n",
       "      <td>http://farm1.static.flickr.com/8/10090770_9569...</td>\n",
       "      <td>/data/datasets/imagenet2012//brad/2.jpeg</td>\n",
       "      <td>200</td>\n",
       "    </tr>\n",
       "    <tr>\n",
       "      <th>3</th>\n",
       "      <td>3</td>\n",
       "      <td>http://farm1.static.flickr.com/19/106208948_14...</td>\n",
       "      <td>/data/datasets/imagenet2012//brad/3.jpeg</td>\n",
       "      <td>200</td>\n",
       "    </tr>\n",
       "    <tr>\n",
       "      <th>4</th>\n",
       "      <td>4</td>\n",
       "      <td>http://farm1.static.flickr.com/40/106209220_f5...</td>\n",
       "      <td>/data/datasets/imagenet2012//brad/4.jpeg</td>\n",
       "      <td>200</td>\n",
       "    </tr>\n",
       "    <tr>\n",
       "      <th>...</th>\n",
       "      <td>...</td>\n",
       "      <td>...</td>\n",
       "      <td>...</td>\n",
       "      <td>...</td>\n",
       "    </tr>\n",
       "    <tr>\n",
       "      <th>1050</th>\n",
       "      <td>1050</td>\n",
       "      <td>http://i7.tinypic.com/8gegj6a.jpg</td>\n",
       "      <td>/data/datasets/imagenet2012//brad/1050.jpeg</td>\n",
       "      <td>200</td>\n",
       "    </tr>\n",
       "    <tr>\n",
       "      <th>1051</th>\n",
       "      <td>1051</td>\n",
       "      <td>http://i8.tinypic.com/7wza2x4.jpg</td>\n",
       "      <td>/data/datasets/imagenet2012//brad/1051.jpeg</td>\n",
       "      <td>200</td>\n",
       "    </tr>\n",
       "    <tr>\n",
       "      <th>1052</th>\n",
       "      <td>1052</td>\n",
       "      <td>http://i9.tinypic.com/449aohx.jpg</td>\n",
       "      <td>/data/datasets/imagenet2012//brad/1052.jpeg</td>\n",
       "      <td>200</td>\n",
       "    </tr>\n",
       "    <tr>\n",
       "      <th>1053</th>\n",
       "      <td>1053</td>\n",
       "      <td>http://i9.tinypic.com/67rmqmf.jpg</td>\n",
       "      <td>/data/datasets/imagenet2012//brad/1053.jpeg</td>\n",
       "      <td>200</td>\n",
       "    </tr>\n",
       "    <tr>\n",
       "      <th>1054</th>\n",
       "      <td>1054</td>\n",
       "      <td>http://i9.tinypic.com/6cfzxu8.jpg</td>\n",
       "      <td>/data/datasets/imagenet2012//brad/1054.jpeg</td>\n",
       "      <td>200</td>\n",
       "    </tr>\n",
       "  </tbody>\n",
       "</table>\n",
       "<p>1055 rows × 4 columns</p>\n",
       "</div>"
      ],
      "text/plain": [
       "       ind                                                url  \\\n",
       "0        0  http://farm1.static.flickr.com/43/100299048_85...   \n",
       "1        1  http://farm1.static.flickr.com/39/100299580_df...   \n",
       "2        2  http://farm1.static.flickr.com/8/10090770_9569...   \n",
       "3        3  http://farm1.static.flickr.com/19/106208948_14...   \n",
       "4        4  http://farm1.static.flickr.com/40/106209220_f5...   \n",
       "...    ...                                                ...   \n",
       "1050  1050                  http://i7.tinypic.com/8gegj6a.jpg   \n",
       "1051  1051                  http://i8.tinypic.com/7wza2x4.jpg   \n",
       "1052  1052                  http://i9.tinypic.com/449aohx.jpg   \n",
       "1053  1053                  http://i9.tinypic.com/67rmqmf.jpg   \n",
       "1054  1054                  http://i9.tinypic.com/6cfzxu8.jpg   \n",
       "\n",
       "                                            fname status_code  \n",
       "0        /data/datasets/imagenet2012//brad/0.jpeg         200  \n",
       "1        /data/datasets/imagenet2012//brad/1.jpeg         200  \n",
       "2        /data/datasets/imagenet2012//brad/2.jpeg         200  \n",
       "3        /data/datasets/imagenet2012//brad/3.jpeg         200  \n",
       "4        /data/datasets/imagenet2012//brad/4.jpeg         200  \n",
       "...                                           ...         ...  \n",
       "1050  /data/datasets/imagenet2012//brad/1050.jpeg         200  \n",
       "1051  /data/datasets/imagenet2012//brad/1051.jpeg         200  \n",
       "1052  /data/datasets/imagenet2012//brad/1052.jpeg         200  \n",
       "1053  /data/datasets/imagenet2012//brad/1053.jpeg         200  \n",
       "1054  /data/datasets/imagenet2012//brad/1054.jpeg         200  \n",
       "\n",
       "[1055 rows x 4 columns]"
      ]
     },
     "execution_count": 49,
     "metadata": {},
     "output_type": "execute_result"
    }
   ],
   "source": [
    "pd.read_json('/data/datasets/imagenet2012/brad/curated_results.json')"
   ]
  },
  {
   "cell_type": "markdown",
   "metadata": {},
   "source": [
    "### teddy bear (imagenet links are broken)"
   ]
  },
  {
   "cell_type": "markdown",
   "metadata": {},
   "source": [
    "https://github.com/naveenchanakya/bear-classifier/blob/master/teddybear.txt"
   ]
  },
  {
   "cell_type": "code",
   "execution_count": 10,
   "metadata": {},
   "outputs": [],
   "source": [
    "url = 'https://raw.githubusercontent.com/naveenchanakya/bear-classifier/master/teddybear.txt'\n",
    "r = requests.get(url)"
   ]
  },
  {
   "cell_type": "code",
   "execution_count": 11,
   "metadata": {},
   "outputs": [],
   "source": [
    "list_of_c = [x for x in r.text.split('\\n')]"
   ]
  },
  {
   "cell_type": "code",
   "execution_count": 18,
   "metadata": {},
   "outputs": [
    {
     "data": {
      "text/plain": [
       "'/data/datasets/imagenet2012/'"
      ]
     },
     "execution_count": 18,
     "metadata": {},
     "output_type": "execute_result"
    }
   ],
   "source": [
    "data_path"
   ]
  },
  {
   "cell_type": "code",
   "execution_count": 17,
   "metadata": {},
   "outputs": [],
   "source": [
    "wind = 'teddy'\n",
    "\n",
    "# wind = 'n02391049'\n",
    "pool = Pool(23)\n",
    "\n",
    "#     print(wind)\n",
    "wind_path = '{}/{}'.format(data_path, wind)\n",
    "os.makedirs(wind_path, exist_ok=True)\n",
    "\n",
    "#     list_of_images = list_of_images[:20]\n",
    "list_of_images = list_of_c\n",
    "inds = range(len(list_of_images))\n",
    "p_aux = [wind_path for x in inds]\n",
    "results = pool.starmap(download_image, zip(inds, list_of_images, p_aux))\n",
    "\n",
    "pd_results = pd.DataFrame(results)\n",
    "restuls_file = '{}/results.json'.format(wind_path)\n",
    "pd_results.to_json(restuls_file)\n",
    "\n",
    "pool.close()"
   ]
  },
  {
   "cell_type": "markdown",
   "metadata": {},
   "source": [
    "### generate image codes and categories"
   ]
  },
  {
   "cell_type": "code",
   "execution_count": 42,
   "metadata": {},
   "outputs": [],
   "source": [
    "from tensorflow.keras.applications.resnet50 import decode_predictions\n",
    "preds_codes = decode_predictions(np.expand_dims(np.arange(1000)[::-1], axis=0), top=1000)[0]\n",
    "# preds_codes = decode_predictions(np.expand_dims(np.zeros(1000), axis=0), top=1000)[0]\n",
    "cats = []\n",
    "for i, (code, desc, _) in enumerate(preds_codes):\n",
    "    cats.append([i, code, desc])"
   ]
  },
  {
   "cell_type": "code",
   "execution_count": 43,
   "metadata": {},
   "outputs": [],
   "source": [
    "cats.append([i+1, 'brad', 'W Bradley Pitt, aka Brad'])"
   ]
  },
  {
   "cell_type": "code",
   "execution_count": 44,
   "metadata": {},
   "outputs": [],
   "source": [
    "pd.DataFrame(cats, columns=['cat', 'id', 'desc']).to_json('/data/datasets/imagenet2012/cat_ids_desc.json')"
   ]
  },
  {
   "cell_type": "code",
   "execution_count": 45,
   "metadata": {},
   "outputs": [
    {
     "data": {
      "text/plain": [
       "array(['n01440764', 'n01443537', 'n01484850', ..., 'n13133613',\n",
       "       'n15075141', 'brad'], dtype=object)"
      ]
     },
     "execution_count": 45,
     "metadata": {},
     "output_type": "execute_result"
    }
   ],
   "source": [
    "pd.read_json('/data/datasets/imagenet2012/cat_ids_desc.json')['id'].values"
   ]
  },
  {
   "cell_type": "code",
   "execution_count": null,
   "metadata": {},
   "outputs": [],
   "source": []
  }
 ],
 "metadata": {
  "kernelspec": {
   "display_name": "Python 3",
   "language": "python",
   "name": "python3"
  },
  "language_info": {
   "codemirror_mode": {
    "name": "ipython",
    "version": 3
   },
   "file_extension": ".py",
   "mimetype": "text/x-python",
   "name": "python",
   "nbconvert_exporter": "python",
   "pygments_lexer": "ipython3",
   "version": "3.7.10"
  }
 },
 "nbformat": 4,
 "nbformat_minor": 4
}
