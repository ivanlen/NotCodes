{
 "cells": [
  {
   "cell_type": "code",
   "execution_count": 1,
   "metadata": {},
   "outputs": [],
   "source": [
    "import tensorflow as tf\n",
    "import numpy as np\n",
    "from tensorflow.keras.preprocessing import image"
   ]
  },
  {
   "cell_type": "markdown",
   "metadata": {},
   "source": [
    "http://image-net.org/challenges/LSVRC/2014/browse-synsets"
   ]
  },
  {
   "cell_type": "code",
   "execution_count": 2,
   "metadata": {},
   "outputs": [],
   "source": [
    "from tensorflow.keras.applications.resnet_v2 import preprocess_input, decode_predictions"
   ]
  },
  {
   "cell_type": "code",
   "execution_count": 3,
   "metadata": {},
   "outputs": [],
   "source": [
    "winds = decode_predictions(np.expand_dims(np.zeros(1000), 0), top=1000)"
   ]
  },
  {
   "cell_type": "code",
   "execution_count": 4,
   "metadata": {},
   "outputs": [],
   "source": [
    "import os\n",
    "import requests\n",
    "import shutil\n",
    "import pandas as pd\n",
    "from tqdm import tqdm\n",
    "from multiprocessing import Pool"
   ]
  },
  {
   "cell_type": "code",
   "execution_count": 5,
   "metadata": {},
   "outputs": [],
   "source": [
    "def extension_mapper(ct):\n",
    "    return ct.split('/')[-1]    \n",
    "\n",
    "def download_image(ind, l, wind_path):\n",
    "#     l = list_of_images[ind]\n",
    "    try:\n",
    "        r = requests.get(l, timeout=8)\n",
    "        status_code = r.status_code\n",
    "        if status_code == 200 and r.headers['Content-Type'] in image_formats:\n",
    "            ext = extension_mapper(r.headers['Content-Type'])\n",
    "            fname = '{}/{}.{}'.format(wind_path, ind, ext)\n",
    "\n",
    "            response = {'ind':ind,\n",
    "                        'url': l, \n",
    "                        'fname': fname,\n",
    "                        'status_code': status_code}\n",
    "            img_data = r.content\n",
    "            with open(fname, 'wb') as f:\n",
    "#                 r.raw.decode_content = True\n",
    "#                 shutil.copyfileobj(r.raw, f)\n",
    "                f.write(img_data)\n",
    "        else:\n",
    "            response = {'ind':ind,\n",
    "            'url': l, \n",
    "            'fname': None,\n",
    "            'status_code': status_code}\n",
    "    except:\n",
    "        response = {'ind':ind,\n",
    "                    'url': l, \n",
    "                    'fname': None,\n",
    "                    'status_code': 'err/to'}\n",
    "    return response"
   ]
  },
  {
   "cell_type": "code",
   "execution_count": 6,
   "metadata": {},
   "outputs": [],
   "source": [
    "data_path = '/data/datasets/imagenet2012/'\n",
    "image_formats = (\"image/png\", \"image/jpeg\", \"image/jpg\")"
   ]
  },
  {
   "cell_type": "code",
   "execution_count": null,
   "metadata": {},
   "outputs": [
    {
     "name": "stderr",
     "output_type": "stream",
     "text": [
      "  8%|▊         | 81/1000 [2:33:27<38:44:08, 151.74s/it]"
     ]
    }
   ],
   "source": [
    "# wind = 'n02391049'\n",
    "pool = Pool(23)\n",
    "for wind in tqdm(winds[0]):\n",
    "    wind = wind[0]\n",
    "#     print(wind)\n",
    "    wind_path = '{}/{}'.format(data_path, wind)\n",
    "    os.makedirs(wind_path, exist_ok=True)\n",
    "    resp = requests.get('http://www.image-net.org/api/text/imagenet.synset.geturls?wnid={wind}'.format(wind=wind))\n",
    "    list_of_images = [x.replace('\\n', '') for x in resp.text.split('\\r')]\n",
    "#     list_of_images = list_of_images[:20]\n",
    "    inds = range(len(list_of_images))\n",
    "    p_aux = [wind_path for x in inds]\n",
    "    results = pool.starmap(download_image, zip(inds, list_of_images, p_aux))\n",
    "\n",
    "    pd_results = pd.DataFrame(results)\n",
    "    restuls_file = '{}/results.json'.format(wind_path)\n",
    "    pd_results.to_json(restuls_file)\n",
    "\n",
    "pool.close()"
   ]
  },
  {
   "cell_type": "markdown",
   "metadata": {},
   "source": [
    "### brad images <3"
   ]
  },
  {
   "cell_type": "markdown",
   "metadata": {},
   "source": [
    "PubFig: Public Figures Face Database\n",
    "\n",
    "https://www.cs.columbia.edu/CAVE/databases/pubfig/download/"
   ]
  },
  {
   "cell_type": "code",
   "execution_count": 11,
   "metadata": {},
   "outputs": [],
   "source": [
    "url = 'https://www.cs.columbia.edu/CAVE//databases/pubfig/download/eval_urls.txt'\n",
    "r = requests.get(url)"
   ]
  },
  {
   "cell_type": "code",
   "execution_count": 23,
   "metadata": {},
   "outputs": [],
   "source": [
    "list_of_c = [x.split('\\t') for x in r.text.split('\\n')]"
   ]
  },
  {
   "cell_type": "code",
   "execution_count": 27,
   "metadata": {},
   "outputs": [
    {
     "data": {
      "text/plain": [
       "['#', 'person', 'imagenum', 'url', 'rect', 'md5sum']"
      ]
     },
     "execution_count": 27,
     "metadata": {},
     "output_type": "execute_result"
    }
   ],
   "source": [
    "list_of_c[1]"
   ]
  },
  {
   "cell_type": "code",
   "execution_count": 28,
   "metadata": {},
   "outputs": [
    {
     "data": {
      "text/plain": [
       "['Aaron Eckhart',\n",
       " '1',\n",
       " 'http://farm1.static.flickr.com/119/288329997_19ebf1d7b3_o.jpg',\n",
       " '248,92,338,182',\n",
       " 'a980a9e21c90ff62e57345fad53a56c8']"
      ]
     },
     "execution_count": 28,
     "metadata": {},
     "output_type": "execute_result"
    }
   ],
   "source": [
    "list_of_c[2]"
   ]
  },
  {
   "cell_type": "code",
   "execution_count": 31,
   "metadata": {},
   "outputs": [],
   "source": [
    "df = pd.DataFrame(list_of_c[2:-1], columns = list_of_c[1][1:] )\n",
    "df_brad = df[df['person'] == 'Brad Pitt'] "
   ]
  },
  {
   "cell_type": "markdown",
   "metadata": {},
   "source": [
    "download images"
   ]
  },
  {
   "cell_type": "code",
   "execution_count": 37,
   "metadata": {},
   "outputs": [],
   "source": [
    "wind = 'brad'\n",
    "\n",
    "# wind = 'n02391049'\n",
    "pool = Pool(23)\n",
    "\n",
    "#     print(wind)\n",
    "wind_path = '{}/{}'.format(data_path, wind)\n",
    "os.makedirs(wind_path, exist_ok=True)\n",
    "\n",
    "#     list_of_images = list_of_images[:20]\n",
    "list_of_images = df_brad['url'].values\n",
    "inds = range(len(list_of_images))\n",
    "p_aux = [wind_path for x in inds]\n",
    "results = pool.starmap(download_image, zip(inds, list_of_images, p_aux))\n",
    "\n",
    "pd_results = pd.DataFrame(results)\n",
    "restuls_file = '{}/results.json'.format(wind_path)\n",
    "pd_results.to_json(restuls_file)\n",
    "\n",
    "pool.close()"
   ]
  }
 ],
 "metadata": {
  "kernelspec": {
   "display_name": "Python 3",
   "language": "python",
   "name": "python3"
  },
  "language_info": {
   "codemirror_mode": {
    "name": "ipython",
    "version": 3
   },
   "file_extension": ".py",
   "mimetype": "text/x-python",
   "name": "python",
   "nbconvert_exporter": "python",
   "pygments_lexer": "ipython3",
   "version": "3.7.10"
  }
 },
 "nbformat": 4,
 "nbformat_minor": 4
}
