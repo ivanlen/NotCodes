{
 "cells": [
  {
   "cell_type": "code",
   "execution_count": 1,
   "metadata": {},
   "outputs": [],
   "source": [
    "%load_ext autoreload\n",
    "%autoreload 2"
   ]
  },
  {
   "cell_type": "code",
   "execution_count": 2,
   "metadata": {},
   "outputs": [],
   "source": [
    "import sys\n",
    "sys.path.append('../code/')"
   ]
  },
  {
   "cell_type": "code",
   "execution_count": 3,
   "metadata": {},
   "outputs": [],
   "source": [
    "import numpy as np\n",
    "import os\n",
    "import pandas as pd\n",
    "from tqdm import tqdm\n",
    "from data_loading import ImageSequence\n",
    "from utils import square_pad_image"
   ]
  },
  {
   "cell_type": "code",
   "execution_count": 4,
   "metadata": {},
   "outputs": [],
   "source": [
    "dataset_path = '/data/datasets/imagenet2012/'"
   ]
  },
  {
   "cell_type": "code",
   "execution_count": 5,
   "metadata": {},
   "outputs": [
    {
     "name": "stderr",
     "output_type": "stream",
     "text": [
      "  1%|          | 7/1001 [00:00<00:15, 63.92it/s]"
     ]
    },
    {
     "name": "stdout",
     "output_type": "stream",
     "text": [
      "generating splits\n"
     ]
    },
    {
     "name": "stderr",
     "output_type": "stream",
     "text": [
      "100%|██████████| 1001/1001 [00:15<00:00, 64.93it/s]\n"
     ]
    }
   ],
   "source": [
    "train_generator = ImageSequence(dataset_path, 20, target_split='train', square_ims='center_pad')"
   ]
  },
  {
   "cell_type": "code",
   "execution_count": 6,
   "metadata": {},
   "outputs": [],
   "source": [
    "folders = train_generator.list_valid_folders()"
   ]
  },
  {
   "cell_type": "code",
   "execution_count": 7,
   "metadata": {},
   "outputs": [],
   "source": [
    "from PIL import UnidentifiedImageError\n",
    "from PIL import Image\n",
    "from tensorflow.keras.applications.resnet50 import preprocess_input, decode_predictions\n",
    "# import warnings\n",
    "# warnings.filterwarnings('error')"
   ]
  },
  {
   "cell_type": "code",
   "execution_count": 25,
   "metadata": {},
   "outputs": [],
   "source": [
    "def correct_sample(sample):\n",
    "    sample['status_code'] = 'er'\n",
    "    sample['fname'] = None\n",
    "    return sample\n",
    "\n",
    "def curate(folder_name, file_name='/curated_results.json'):\n",
    "    ims_df = pd.read_json(folder_name + file_name)\n",
    "    invalids = []\n",
    "    ims = []\n",
    "    for i, sample in ims_df[ims_df['status_code']==200].iterrows():\n",
    "        print(sample['fname'])\n",
    "        try:\n",
    "            if sample['fname'] is None:\n",
    "                sample = correct_sample(sample)\n",
    "                ims_df.iloc[i] = sample\n",
    "            else:\n",
    "                im = square_pad_image(sample['fname'])\n",
    "                ims.append(np.asarray(im))\n",
    "        except UnidentifiedImageError:\n",
    "            sample = correct_sample(sample)\n",
    "            ims_df.iloc[i] = sample\n",
    "        except OSError:\n",
    "            sample = correct_sample(sample)\n",
    "            ims_df.iloc[i] = sample\n",
    "        except Exception as e:\n",
    "            print(e)\n",
    "            raise Exception('BREAK other error')\n",
    "    print(folder_name, len(ims))\n",
    "    preprocess_input(np.array(ims))\n",
    "    new_json_path = folder_name + '/curated_results.json'\n",
    "    ims_df.to_json(new_json_path)"
   ]
  },
  {
   "cell_type": "code",
   "execution_count": 26,
   "metadata": {},
   "outputs": [],
   "source": [
    "# from multiprocessing import Pool\n",
    "\n",
    "# # parallel\n",
    "# pool = Pool(10)\n",
    "# list(tqdm(pool.imap(curate, folders), total=len(folders)))\n",
    "# pool.close()\n",
    "\n",
    "# # single thread\n",
    "# # for folder_name in tqdm(folders):\n",
    "# #     curate(folder_name)"
   ]
  },
  {
   "cell_type": "code",
   "execution_count": 33,
   "metadata": {},
   "outputs": [],
   "source": [
    "# extra curate\n",
    "# curate('/data/datasets/imagenet2012/n04399382', '/results.json')"
   ]
  },
  {
   "cell_type": "code",
   "execution_count": null,
   "metadata": {},
   "outputs": [],
   "source": []
  }
 ],
 "metadata": {
  "kernelspec": {
   "display_name": "Python 3",
   "language": "python",
   "name": "python3"
  },
  "language_info": {
   "codemirror_mode": {
    "name": "ipython",
    "version": 3
   },
   "file_extension": ".py",
   "mimetype": "text/x-python",
   "name": "python",
   "nbconvert_exporter": "python",
   "pygments_lexer": "ipython3",
   "version": "3.7.10"
  }
 },
 "nbformat": 4,
 "nbformat_minor": 4
}
